{
 "cells": [
  {
   "cell_type": "code",
   "execution_count": null,
   "id": "1d2469ad",
   "metadata": {},
   "outputs": [
    {
     "ename": "AssertionError",
     "evalue": "OPENAI_API_KEY not found in environment",
     "output_type": "error",
     "traceback": [
      "\u001b[31m---------------------------------------------------------------------------\u001b[39m",
      "\u001b[31mAssertionError\u001b[39m                            Traceback (most recent call last)",
      "\u001b[36mCell\u001b[39m\u001b[36m \u001b[39m\u001b[32mIn[1]\u001b[39m\u001b[32m, line 9\u001b[39m\n\u001b[32m      6\u001b[39m openai.api_key = os.getenv(\u001b[33m\"\u001b[39m\u001b[33mOPENAI_API_KEY\u001b[39m\u001b[33m\"\u001b[39m)\n\u001b[32m      8\u001b[39m \u001b[38;5;66;03m# Quick check\u001b[39;00m\n\u001b[32m----> \u001b[39m\u001b[32m9\u001b[39m \u001b[38;5;28;01massert\u001b[39;00m openai.api_key, \u001b[33m\"\u001b[39m\u001b[33mOPENAI_API_KEY not found in environment\u001b[39m\u001b[33m\"\u001b[39m\n\u001b[32m     10\u001b[39m \u001b[38;5;28mprint\u001b[39m(\u001b[33m\"\u001b[39m\u001b[33mLoaded key, length:\u001b[39m\u001b[33m\"\u001b[39m, \u001b[38;5;28mlen\u001b[39m(openai.api_key))\n\u001b[32m     11\u001b[39m \u001b[38;5;28;01mimport\u001b[39;00m\u001b[38;5;250m \u001b[39m\u001b[34;01mnest_asyncio\u001b[39;00m\n",
      "\u001b[31mAssertionError\u001b[39m: OPENAI_API_KEY not found in environment"
     ]
    }
   ],
   "source": [
    "# Cell 1: Load environment variables and prepare FastAPI\n",
    "from dotenv import load_dotenv\n",
    "load_dotenv()   # this reads your existing .env in the project root\n",
    "import os, openai\n",
    "# Explicitly pull the key from env\n",
    "openai.api_key = os.getenv(\"OPENAI_API_KEY\")\n",
    "\n",
    "# Quick check\n",
    "assert openai.api_key, \"OPENAI_API_KEY not found in environment\" # load key in .env\n",
    "print(\"Loaded key, length:\", len(openai.api_key))\n",
    "import nest_asyncio\n",
    "nest_asyncio.apply()  # allow uvicorn in-notebook\n",
    "\n",
    "from fastapi import FastAPI, Request, Response\n",
    "from icalendar import Calendar, Event\n",
    "from datetime import datetime\n",
    "import pytz, uuid\n",
    "\n",
    "app = FastAPI()\n",
    "from pydantic import BaseModel, Field\n",
    "from typing  import Optional\n",
    "\n",
    "\n",
    "\n",
    "class ICSRequest(BaseModel):\n",
    "    title:     str       = Field(..., example=\"Team sync\")\n",
    "    date:      str       = Field(..., example=\"2025-05-15\")   # or date type\n",
    "    start:     str       = Field(..., example=\"10:00\")\n",
    "    end:       str       = Field(..., example=\"11:00\")\n",
    "    tz:        str       = Field(..., example=\"America/Toronto\")\n",
    "    location:  Optional[str] = Field(None, example=\"Zoom Meeting\")\n",
    "\n",
    "\n"
   ]
  },
  {
   "cell_type": "code",
   "execution_count": null,
   "id": "a535c7b4",
   "metadata": {},
   "outputs": [],
   "source": [
    "# Cell 2: root check\n",
    "@app.get(\"/\")\n",
    "def read_root():\n",
    "    return {\"message\": \"AI Scheduler (notebook) running\"}"
   ]
  },
  {
   "cell_type": "code",
   "execution_count": null,
   "id": "cd5b6b0b",
   "metadata": {},
   "outputs": [],
   "source": [
    "from fastapi import Response\n",
    "\n",
    "@app.post(\n",
    "    \"/generate-ics\",\n",
    "    response_description=\"An ICS calendar file\",\n",
    "    response_class=Response,\n",
    "    responses={200: {\"content\": {\"text/calendar\": {}}}}\n",
    ")\n",
    "async def generate_ics(payload: ICSRequest):\n",
    "    # now `payload` is a validated ICSRequest\n",
    "    cal = Calendar()\n",
    "    cal.add(\"prodid\", \"-//AIScheduler//EN\")\n",
    "    cal.add(\"version\", \"2.0\")\n",
    "\n",
    "    # parse and localize\n",
    "    tz = pytz.timezone(payload.tz)\n",
    "    start = tz.localize(datetime.fromisoformat(f\"{payload.date}T{payload.start}\"))\n",
    "    end   = tz.localize(datetime.fromisoformat(f\"{payload.date}T{payload.end}\"))\n",
    "\n",
    "    event = Event()\n",
    "    event.add(\"uid\", str(uuid.uuid4()))\n",
    "    event.add(\"dtstamp\", datetime.utcnow().replace(tzinfo=pytz.UTC))\n",
    "    event.add(\"dtstart\", start)\n",
    "    event.add(\"dtend\",   end)\n",
    "    event.add(\"summary\", payload.title)\n",
    "    if payload.location:\n",
    "        event.add(\"location\", payload.location)\n",
    "\n",
    "    cal.add_component(event)\n",
    "    ics_bytes = cal.to_ical()\n",
    "\n",
    "    return Response(\n",
    "        content=ics_bytes,\n",
    "        media_type=\"text/calendar\",\n",
    "        headers={\"Content-Disposition\": f\"attachment; filename={payload.title}.ics\"}\n",
    "    )\n"
   ]
  },
  {
   "cell_type": "code",
   "execution_count": null,
   "id": "2764739c",
   "metadata": {},
   "outputs": [
    {
     "name": "stdout",
     "output_type": "stream",
     "text": [
      "Server started in background on http://127.0.0.1:8000\n"
     ]
    },
    {
     "name": "stderr",
     "output_type": "stream",
     "text": [
      "INFO:     Started server process [27336]\n",
      "INFO:     Waiting for application startup.\n",
      "INFO:     Application startup complete.\n",
      "ERROR:    [Errno 10048] error while attempting to bind on address ('127.0.0.1', 8000): [winerror 10048] only one usage of each socket address (protocol/network address/port) is normally permitted\n",
      "INFO:     Waiting for application shutdown.\n",
      "INFO:     Application shutdown complete.\n"
     ]
    }
   ],
   "source": [
    "# Cell 4: background server\n",
    "import threading, uvicorn\n",
    "\n",
    "def _run_server():\n",
    "    uvicorn.run(app, host=\"127.0.0.1\", port=8000)\n",
    "\n",
    "thread = threading.Thread(target=_run_server, daemon=True)\n",
    "thread.start()\n",
    "\n",
    "print(\"Server started in background on http://127.0.0.1:8000\")\n"
   ]
  },
  {
   "cell_type": "code",
   "execution_count": null,
   "id": "dd6ceada",
   "metadata": {},
   "outputs": [
    {
     "name": "stdout",
     "output_type": "stream",
     "text": [
      "ICS file saved as desk_check.ics\n"
     ]
    }
   ],
   "source": [
    "import requests\n",
    "\n",
    "# Define the payload matching your Pydantic model\n",
    "payload = {\n",
    "    \"title\":    \"Desk check\",\n",
    "    \"date\":     \"2025-05-17\",\n",
    "    \"start\":    \"15:00\",\n",
    "    \"end\":      \"15:30\",\n",
    "    \"tz\":       \"America/Toronto\",\n",
    "    \"location\": \"Office\"\n",
    "}\n",
    "\n",
    "# Send POST to your running API\n",
    "resp = requests.post(\n",
    "    \"http://127.0.0.1:8000/generate-ics\",\n",
    "    json=payload\n",
    ")\n",
    "\n",
    "# Check status and write out the file\n",
    "if resp.status_code == 200:\n",
    "    with open(\"desk_check.ics\", \"wb\") as f:\n",
    "        f.write(resp.content)\n",
    "    print(\"ICS file saved as desk_check.ics\")\n",
    "else:\n",
    "    print(\"Error\", resp.status_code, resp.text)\n"
   ]
  }
 ],
 "metadata": {
  "kernelspec": {
   "display_name": ".venv",
   "language": "python",
   "name": "python3"
  },
  "language_info": {
   "codemirror_mode": {
    "name": "ipython",
    "version": 3
   },
   "file_extension": ".py",
   "mimetype": "text/x-python",
   "name": "python",
   "nbconvert_exporter": "python",
   "pygments_lexer": "ipython3",
   "version": "3.13.3"
  }
 },
 "nbformat": 4,
 "nbformat_minor": 5
}
