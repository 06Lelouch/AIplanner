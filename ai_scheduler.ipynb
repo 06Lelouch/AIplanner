{
 "cells": [
  {
   "cell_type": "code",
   "execution_count": null,
   "id": "1d2469ad",
   "metadata": {},
   "outputs": [
    {
     "name": "stdout",
     "output_type": "stream",
     "text": [
      "Loaded key, length: 164\n"
     ]
    }
   ],
   "source": [
    "# Main Cell 1: Load environment variables and prepare FastAPI\n",
    "from dotenv import load_dotenv\n",
    "load_dotenv()   # this reads your existing .env in the project root\n",
    "import os, openai, json\n",
    "from openai import OpenAI\n",
    "# pull key from environment\n",
    "# Note: you can also set OPENAI_API_KEY in your .env file\n",
    "client = OpenAI(api_key=os.getenv(\"OPENAI_API_KEY\"))\n",
    "\n",
    "\n",
    "# Quick check\n",
    "assert client.api_key, \"OPENAI_API_KEY not found in environment\" # load key in .env\n",
    "print(\"Loaded key, length:\", len(client .api_key))\n",
    "# What we want back from LLM\n",
    "extract_event_schema = [\n",
    "    {\n",
    "        \"name\": \"extract_event\",\n",
    "        \"description\": \"Parse a scheduling request into structured event fields\",\n",
    "        \"parameters\": {\n",
    "            \"type\": \"object\",\n",
    "            \"properties\": {\n",
    "                \"title\":     {\"type\": \"string\", \"description\": \"A short event title\"},\n",
    "                \"date\":      {\"type\": \"string\", \"description\": \"YYYY-MM-DD\"},\n",
    "                \"start\":     {\"type\": \"string\", \"description\": \"HH:MM, 24-hour\"},\n",
    "                \"end\":       {\"type\": \"string\", \"description\": \"HH:MM, 24-hour\"},\n",
    "                \"tz\":        {\"type\": \"string\", \"description\": \"IANA timezone, e.g. America/Toronto\"},\n",
    "                \"location\":  {\"type\": \"string\", \"description\": \"Optional location or URL\"}\n",
    "            },\n",
    "            \"required\": [\"title\",\"date\",\"start\",\"end\",\"tz\"]\n",
    "        }\n",
    "    }\n",
    "]\n",
    "import nest_asyncio\n",
    "nest_asyncio.apply()  # allow uvicorn in-notebook\n",
    "\n",
    "from fastapi import FastAPI, Request, Response\n",
    "from icalendar import Calendar, Event\n",
    "from datetime import datetime\n",
    "import pytz, uuid\n",
    "\n",
    "app = FastAPI()\n",
    "from pydantic import BaseModel, Field\n",
    "from typing  import Optional\n",
    "\n",
    "\n",
    "\n",
    "class ICSRequest(BaseModel):\n",
    "    title:     str       = Field(..., example=\"Team sync\")\n",
    "    date:      str       = Field(..., example=\"2025-05-15\")   # or date type\n",
    "    start:     str       = Field(..., example=\"10:00\")\n",
    "    end:       str       = Field(..., example=\"11:00\")\n",
    "    tz:        str       = Field(..., example=\"America/Toronto\")\n",
    "    location:  Optional[str] = Field(None, example=\"Zoom Meeting\")\n",
    "\n",
    "\n"
   ]
  },
  {
   "cell_type": "code",
   "execution_count": null,
   "id": "c903dfac",
   "metadata": {},
   "outputs": [
    {
     "name": "stdout",
     "output_type": "stream",
     "text": [
      "Detected local time: 2025-05-19T18:08:14-0400 (东部夏令时)\n"
     ]
    }
   ],
   "source": [
    "# helper cell 1 get time now\n",
    "from datetime import datetime\n",
    "\n",
    "# 1. Get the current local datetime with tzinfo\n",
    "local_now    = datetime.now().astimezone()\n",
    "local_tzinfo = local_now.tzinfo\n",
    "\n",
    "# 2. Derive a tz-name string for the prompt\n",
    "local_tzname = getattr(local_tzinfo, \"key\", local_tzinfo.tzname(None))\n",
    "\n",
    "# 3. Build ISO timestamp including offset\n",
    "now_iso = local_now.strftime(\"%Y-%m-%dT%H:%M:%S%z\")\n",
    "\n",
    "print(f\"Detected local time: {now_iso} ({local_tzname})\")\n"
   ]
  },
  {
   "cell_type": "code",
   "execution_count": null,
   "id": "6d8950ca",
   "metadata": {},
   "outputs": [],
   "source": [
    "# helper cell 2 extract_slots\n",
    "def extract_slots(nl: str, now_iso: str, tzname: str) -> dict:\n",
    "    system_prompt = (\n",
    "        f\"You are a scheduling assistant.  The current date/time is {now_iso} \"\n",
    "        f\"in timezone {tzname}.  \"\n",
    "        \"When the user says 'tomorrow', 'next Friday', or similar, interpret relative to that.  \"\n",
    "        \"Return JSON ONLY by calling the extract_event function.\"\n",
    "    )\n",
    "    resp = client.chat.completions.create(\n",
    "        model=\"gpt-4o-mini\",\n",
    "        messages=[\n",
    "            {\"role\":\"system\", \"content\": system_prompt},\n",
    "            {\"role\":\"user\",   \"content\": nl}\n",
    "        ],\n",
    "        functions=extract_event_schema,\n",
    "        function_call={\"name\":\"extract_event\"}\n",
    "    )\n",
    "    fn = resp.choices[0].message.function_call\n",
    "    return json.loads(fn.arguments)\n"
   ]
  },
  {
   "cell_type": "code",
   "execution_count": 18,
   "id": "a535c7b4",
   "metadata": {},
   "outputs": [],
   "source": [
    "# Cell 2: root check\n",
    "@app.get(\"/\")\n",
    "def read_root():\n",
    "    return {\"message\": \"AI Scheduler (notebook) running\"}"
   ]
  },
  {
   "cell_type": "code",
   "execution_count": null,
   "id": "cd5b6b0b",
   "metadata": {},
   "outputs": [],
   "source": [
    "# Cell 3: test the API\n",
    "from fastapi import Response\n",
    "\n",
    "@app.post(\n",
    "    \"/generate-ics\",\n",
    "    response_description=\"An ICS calendar file\",\n",
    "    response_class=Response,\n",
    "    responses={200: {\"content\": {\"text/calendar\": {}}}}\n",
    ")\n",
    "async def generate_ics(payload: ICSRequest):\n",
    "    # now `payload` is a validated ICSRequest\n",
    "    cal = Calendar()\n",
    "    cal.add(\"prodid\", \"-//AIScheduler//EN\")\n",
    "    cal.add(\"version\", \"2.0\")\n",
    "\n",
    "    # parse and localize\n",
    "    tz = pytz.timezone(payload.tz)\n",
    "    start = tz.localize(datetime.fromisoformat(f\"{payload.date}T{payload.start}\"))\n",
    "    end   = tz.localize(datetime.fromisoformat(f\"{payload.date}T{payload.end}\"))\n",
    "\n",
    "    event = Event()\n",
    "    event.add(\"uid\", str(uuid.uuid4()))\n",
    "    event.add(\"dtstamp\", datetime.utcnow().replace(tzinfo=pytz.UTC))\n",
    "    event.add(\"dtstart\", start)\n",
    "    event.add(\"dtend\",   end)\n",
    "    event.add(\"summary\", payload.title)\n",
    "    if payload.location:\n",
    "        event.add(\"location\", payload.location)\n",
    "\n",
    "    cal.add_component(event)\n",
    "    ics_bytes = cal.to_ical()\n",
    "\n",
    "    return Response(\n",
    "        content=ics_bytes,\n",
    "        media_type=\"text/calendar\",\n",
    "        headers={\"Content-Disposition\": f\"attachment; filename={payload.title}.ics\"}\n",
    "    )\n"
   ]
  },
  {
   "cell_type": "code",
   "execution_count": null,
   "id": "2764739c",
   "metadata": {},
   "outputs": [
    {
     "name": "stdout",
     "output_type": "stream",
     "text": [
      "Server started in background on http://127.0.0.1:8000\n"
     ]
    },
    {
     "name": "stderr",
     "output_type": "stream",
     "text": [
      "INFO:     Started server process [27496]\n",
      "INFO:     Waiting for application startup.\n",
      "INFO:     Application startup complete.\n",
      "ERROR:    [Errno 10048] error while attempting to bind on address ('127.0.0.1', 8000): [winerror 10048] only one usage of each socket address (protocol/network address/port) is normally permitted\n",
      "INFO:     Waiting for application shutdown.\n",
      "INFO:     Application shutdown complete.\n"
     ]
    }
   ],
   "source": [
    "# Cell 4: background server\n",
    "import threading, uvicorn\n",
    "\n",
    "def _run_server():\n",
    "    uvicorn.run(app, host=\"127.0.0.1\", port=8000)\n",
    "\n",
    "thread = threading.Thread(target=_run_server, daemon=True)\n",
    "thread.start()\n",
    "\n",
    "print(\"Server started in background on http://127.0.0.1:8000\")\n"
   ]
  },
  {
   "cell_type": "code",
   "execution_count": null,
   "id": "afd6f2f1",
   "metadata": {},
   "outputs": [
    {
     "name": "stdout",
     "output_type": "stream",
     "text": [
      "🤖 Debug – extracted slots: {\n",
      "  \"title\": \"Pick up Aya at YVR Airport\",\n",
      "  \"date\": \"2025-05-20\",\n",
      "  \"start\": \"15:30\",\n",
      "  \"end\": \"16:00\",\n",
      "  \"tz\": \"America/Toronto\",\n",
      "  \"location\": \"YVR Airport\"\n",
      "}\n",
      "\n",
      "Event to add:\n",
      " • Title:    Pick up Aya at YVR Airport\n",
      " • When:     2025-05-20  15:30–16:00 (东部夏令时)\n",
      " • Location: YVR Airport\n",
      "✅ Saved: Pick_up_Aya_at_YVR_Airport.ics\n",
      "🤖 Debug – extracted slots: {\n",
      "  \"title\": \"Unnamed Event\",\n",
      "  \"date\": \"2025-05-20\",\n",
      "  \"start\": \"18:09\",\n",
      "  \"end\": \"19:09\",\n",
      "  \"tz\": \"America/Toronto\"\n",
      "}\n",
      "\n",
      "Event to add:\n",
      " • Title:    Unnamed Event\n",
      " • When:     2025-05-20  18:09–19:09 (东部夏令时)\n",
      "Okay, let's try again.\n",
      "Goodbye! 👋\n"
     ]
    }
   ],
   "source": [
    "# Cell 3: chat loop\n",
    "import sys, json, requests\n",
    "from datetime import datetime\n",
    "\n",
    "while True:\n",
    "    # 1) Read raw input\n",
    "    user_text = input(\"\\nYou(exit/quit to exit): \").strip()\n",
    "\n",
    "    # 2) Check for exit BEFORE calling the LLM\n",
    "    if user_text.lower() in (\"exit\", \"quit\"):\n",
    "        print(\"Goodbye!\")\n",
    "        break\n",
    "\n",
    "    # 3) Build the “now” context\n",
    "    local_now    = datetime.now().astimezone()\n",
    "    now_iso      = local_now.strftime(\"%Y-%m-%dT%H:%M:%S%z\")\n",
    "    tzinfo       = local_now.tzinfo\n",
    "    tzname       = getattr(tzinfo, \"key\", tzinfo.tzname(None))\n",
    "\n",
    "    # 4) Extract slots\n",
    "    try:\n",
    "        ev = extract_slots(user_text, now_iso, tzname)\n",
    "    except Exception as e:\n",
    "        print(\"Extraction error:\", e)\n",
    "        continue\n",
    "\n",
    "    # 5) Debug print (optional)\n",
    "    print(\"Debug extracted slots:\", json.dumps(ev, indent=2), flush=True)\n",
    "\n",
    "    # 6) Human‐readable summary\n",
    "    print(\"\\nEvent to add:\", flush=True)\n",
    "    print(f\" • Title:    {ev.get('title')}\", flush=True)\n",
    "    print(f\" • When:     {ev.get('date')}  {ev.get('start')}–{ev.get('end')} ({tzname})\", flush=True)\n",
    "    if ev.get(\"location\"):\n",
    "        print(f\" • Location: {ev.get('location')}\", flush=True)\n",
    "\n",
    "    # 7) Confirm prompt\n",
    "    confirm = input(\"\\nConfirm and generate .ics? (y/n): \").strip().lower()\n",
    "    if confirm != \"y\":\n",
    "        print(\"Okay, let's try again.\", flush=True)\n",
    "        continue\n",
    "\n",
    "    # 8) Hit API and save the file\n",
    "    resp = requests.post(\"http://127.0.0.1:8000/generate-ics\", json=ev)\n",
    "    if resp.status_code == 200:\n",
    "        fname = ev[\"title\"].replace(\" \", \"_\") + \".ics\"\n",
    "        with open(fname, \"wb\") as f:\n",
    "            f.write(resp.content)\n",
    "        print(f\"Saved: {fname}\", flush=True)\n",
    "    else:\n",
    "        print(\"Failed to generate ICS:\", resp.status_code, resp.text, flush=True)\n"
   ]
  }
 ],
 "metadata": {
  "kernelspec": {
   "display_name": ".venv",
   "language": "python",
   "name": "python3"
  },
  "language_info": {
   "codemirror_mode": {
    "name": "ipython",
    "version": 3
   },
   "file_extension": ".py",
   "mimetype": "text/x-python",
   "name": "python",
   "nbconvert_exporter": "python",
   "pygments_lexer": "ipython3",
   "version": "3.13.3"
  }
 },
 "nbformat": 4,
 "nbformat_minor": 5
}
